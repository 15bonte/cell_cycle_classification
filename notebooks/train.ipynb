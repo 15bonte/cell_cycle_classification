{
 "cells": [
  {
   "cell_type": "markdown",
   "metadata": {},
   "source": [
    "# Train VAE & classifier "
   ]
  },
  {
   "cell_type": "code",
   "execution_count": 1,
   "metadata": {},
   "outputs": [],
   "source": [
    "import os\n",
    "from cell_cycle_classification.utils.model_trainer import ModelTrainer\n",
    "from cell_cycle_classification.utils.model_params import FucciVAEModelParams\n",
    "from cell_cycle_classification.utils.parser import FucciVAEParser"
   ]
  },
  {
   "cell_type": "markdown",
   "metadata": {},
   "source": [
    "### Define parameters"
   ]
  },
  {
   "cell_type": "code",
   "execution_count": 2,
   "metadata": {},
   "outputs": [],
   "source": [
    "params = FucciVAEModelParams()\n",
    "args = FucciVAEParser().get_default_args()"
   ]
  },
  {
   "cell_type": "markdown",
   "metadata": {},
   "source": [
    "### Define model trainer"
   ]
  },
  {
   "cell_type": "code",
   "execution_count": 3,
   "metadata": {},
   "outputs": [],
   "source": [
    "trainer = ModelTrainer()\n",
    "\n",
    "# Next is specific to our data set - modify with your own data set if necessary\n",
    "params.train_file = os.path.join(os.path.abspath(''), \"data_set_split\", \"train.txt\")\n",
    "params.val_file = os.path.join(os.path.abspath(''), \"data_set_split\", \"val.txt\")\n",
    "params.test_file = os.path.join(os.path.abspath(''), \"data_set_split\", \"test.txt\")\n",
    "params.data_set_size = 280  # maximum nucleus diameter "
   ]
  },
  {
   "cell_type": "markdown",
   "metadata": {},
   "source": [
    "### VAE - SSL training"
   ]
  },
  {
   "cell_type": "code",
   "execution_count": 4,
   "metadata": {},
   "outputs": [
    {
     "name": "stdout",
     "output_type": "stream",
     "text": [
      "\n",
      "### Training VAE on current data set ###\n",
      "\n",
      "Model time id: 20250110-115716-local\n",
      "epochs 10 | batch 32 | lr 0.0001 | weight decay 0.05 | dropout 0.0 | c [0] | z [0, 1, 2, 3, 4] | data set size 280 | latent dim 256 | beta 0.01 | gamma 100.0 | delta 10000.0 | depth 5 | kld loss standard | encoder name resnet18 | latent dim 256 | beta 0.01 | gamma 100.0 | delta 10000.0 | C 50 | depth 5 | kld loss standard | encoder name resnet18\n",
      "File names correctly loaded.\n",
      "Splitting file names ...\n",
      "### Data source ###\n",
      "train data is loaded from c:\\Users\\thoma\\cell_cycle_classification\\notebooks\\data_set_split\\train.txt - 100% elements\n",
      "val data is loaded from c:\\Users\\thoma\\cell_cycle_classification\\notebooks\\data_set_split\\val.txt - 100% elements\n",
      "test data is loaded from c:\\Users\\thoma\\cell_cycle_classification\\notebooks\\data_set_split\\test.txt - 100% elements\n",
      "###################\n",
      "train has 752 images.\n",
      "val has 323 images.\n",
      "test has 388 images.\n",
      "###################\n",
      "Note: test is shuffled for EuclideanMetricMatching computation.\n",
      "Number of parameters in encoder: 11445954\n",
      "Number of parameters in decoder: 13332482\n",
      "Current commit hash: 0594c3d0d41c72530f718bb218d8558109c44016\n",
      "Mean and std are computed on only 10000 images max.\n",
      "Mean/std computation in progress: 100.0% | Image 752/752                                           "
     ]
    },
    {
     "name": "stderr",
     "output_type": "stream",
     "text": [
      "Failed to detect the name of this notebook, you can set it manually with the WANDB_NOTEBOOK_NAME environment variable to enable code saving.\n",
      "\u001b[34m\u001b[1mwandb\u001b[0m: Currently logged in as: \u001b[33mthomas-bonte\u001b[0m (\u001b[33mcbio-bis\u001b[0m). Use \u001b[1m`wandb login --relogin`\u001b[0m to force relogin\n"
     ]
    },
    {
     "data": {
      "text/html": [
       "wandb version 0.19.2 is available!  To upgrade, please run:\n",
       " $ pip install wandb --upgrade"
      ],
      "text/plain": [
       "<IPython.core.display.HTML object>"
      ]
     },
     "metadata": {},
     "output_type": "display_data"
    },
    {
     "data": {
      "text/html": [
       "Tracking run with wandb version 0.15.5"
      ],
      "text/plain": [
       "<IPython.core.display.HTML object>"
      ]
     },
     "metadata": {},
     "output_type": "display_data"
    },
    {
     "data": {
      "text/html": [
       "Run data is saved locally in <code>c:\\Users\\thoma\\cell_cycle_classification\\notebooks\\wandb\\run-20250110_115757-9is3aj7c</code>"
      ],
      "text/plain": [
       "<IPython.core.display.HTML object>"
      ]
     },
     "metadata": {},
     "output_type": "display_data"
    },
    {
     "data": {
      "text/html": [
       "Syncing run <strong><a href='https://wandb.ai/cbio-bis/vae-fucci-local/runs/9is3aj7c' target=\"_blank\">20250110-115716-local</a></strong> to <a href='https://wandb.ai/cbio-bis/vae-fucci-local' target=\"_blank\">Weights & Biases</a> (<a href='https://wandb.me/run' target=\"_blank\">docs</a>)<br/>"
      ],
      "text/plain": [
       "<IPython.core.display.HTML object>"
      ]
     },
     "metadata": {},
     "output_type": "display_data"
    },
    {
     "data": {
      "text/html": [
       " View project at <a href='https://wandb.ai/cbio-bis/vae-fucci-local' target=\"_blank\">https://wandb.ai/cbio-bis/vae-fucci-local</a>"
      ],
      "text/plain": [
       "<IPython.core.display.HTML object>"
      ]
     },
     "metadata": {},
     "output_type": "display_data"
    },
    {
     "data": {
      "text/html": [
       " View run at <a href='https://wandb.ai/cbio-bis/vae-fucci-local/runs/9is3aj7c' target=\"_blank\">https://wandb.ai/cbio-bis/vae-fucci-local/runs/9is3aj7c</a>"
      ],
      "text/plain": [
       "<IPython.core.display.HTML object>"
      ]
     },
     "metadata": {},
     "output_type": "display_data"
    },
    {
     "name": "stderr",
     "output_type": "stream",
     "text": [
      "Checking train dataset...\n",
      "Checking eval dataset...\n",
      "Using Custom Trainer\n",
      "\n",
      "Model passed sanity check !\n",
      "Ready for training.\n",
      "\n",
      "Created c:\\users\\thoma\\cell_cycle_classification\\cell_cycle_classification\\utils\\..\\..\\models/fucci_vae/20250110-115716-local\\VAMP_training_2025-01-10_11-58-21. \n",
      "Training config, checkpoints and final model will be saved here.\n",
      "\n",
      "Training params:\n",
      " - max_epochs: 10\n",
      " - per_device_train_batch_size: 32\n",
      " - per_device_eval_batch_size: 32\n",
      " - checkpoint saving every: None\n",
      "Optimizer: AdamW (\n",
      "Parameter Group 0\n",
      "    amsgrad: False\n",
      "    betas: (0.91, 0.995)\n",
      "    capturable: False\n",
      "    eps: 1e-08\n",
      "    foreach: None\n",
      "    lr: 0.0001\n",
      "    maximize: False\n",
      "    weight_decay: 0.05\n",
      ")\n",
      "Scheduler: <torch.optim.lr_scheduler.ReduceLROnPlateau object at 0x0000019F08015280>\n",
      "\n",
      "Successfully launched training !\n",
      "\n"
     ]
    },
    {
     "data": {
      "application/json": {
       "ascii": false,
       "bar_format": null,
       "colour": null,
       "elapsed": 0.003996610641479492,
       "initial": 0,
       "n": 0,
       "ncols": null,
       "nrows": null,
       "postfix": null,
       "prefix": "Training of epoch 1/10",
       "rate": null,
       "total": 24,
       "unit": "batch",
       "unit_divisor": 1000,
       "unit_scale": false
      },
      "application/vnd.jupyter.widget-view+json": {
       "model_id": "6b7a85e572aa42a193d942ed2b9ba86e",
       "version_major": 2,
       "version_minor": 0
      },
      "text/plain": [
       "Training of epoch 1/10:   0%|          | 0/24 [00:00<?, ?batch/s]"
      ]
     },
     "metadata": {},
     "output_type": "display_data"
    },
    {
     "data": {
      "application/json": {
       "ascii": false,
       "bar_format": null,
       "colour": null,
       "elapsed": 0.0039615631103515625,
       "initial": 0,
       "n": 0,
       "ncols": null,
       "nrows": null,
       "postfix": null,
       "prefix": "Eval of epoch 1/10",
       "rate": null,
       "total": 11,
       "unit": "batch",
       "unit_divisor": 1000,
       "unit_scale": false
      },
      "application/vnd.jupyter.widget-view+json": {
       "model_id": "b4b0205ef2704bb0bfc2282cf08d1137",
       "version_major": 2,
       "version_minor": 0
      },
      "text/plain": [
       "Eval of epoch 1/10:   0%|          | 0/11 [00:00<?, ?batch/s]"
      ]
     },
     "metadata": {},
     "output_type": "display_data"
    },
    {
     "name": "stderr",
     "output_type": "stream",
     "text": [
      "--------------------------------------------------------------------------\n",
      "Train loss: 2285.7153\n",
      "Eval loss: 971.1189\n",
      "--------------------------------------------------------------------------\n"
     ]
    },
    {
     "data": {
      "application/json": {
       "ascii": false,
       "bar_format": null,
       "colour": null,
       "elapsed": 0.004999637603759766,
       "initial": 0,
       "n": 0,
       "ncols": null,
       "nrows": null,
       "postfix": null,
       "prefix": "Training of epoch 2/10",
       "rate": null,
       "total": 24,
       "unit": "batch",
       "unit_divisor": 1000,
       "unit_scale": false
      },
      "application/vnd.jupyter.widget-view+json": {
       "model_id": "0de947fd4c7f40ceb3309531249f3a65",
       "version_major": 2,
       "version_minor": 0
      },
      "text/plain": [
       "Training of epoch 2/10:   0%|          | 0/24 [00:00<?, ?batch/s]"
      ]
     },
     "metadata": {},
     "output_type": "display_data"
    },
    {
     "data": {
      "application/json": {
       "ascii": false,
       "bar_format": null,
       "colour": null,
       "elapsed": 0.003999948501586914,
       "initial": 0,
       "n": 0,
       "ncols": null,
       "nrows": null,
       "postfix": null,
       "prefix": "Eval of epoch 2/10",
       "rate": null,
       "total": 11,
       "unit": "batch",
       "unit_divisor": 1000,
       "unit_scale": false
      },
      "application/vnd.jupyter.widget-view+json": {
       "model_id": "6bbc78a10d1e460f948d0f5eaf4a1e1b",
       "version_major": 2,
       "version_minor": 0
      },
      "text/plain": [
       "Eval of epoch 2/10:   0%|          | 0/11 [00:00<?, ?batch/s]"
      ]
     },
     "metadata": {},
     "output_type": "display_data"
    },
    {
     "name": "stderr",
     "output_type": "stream",
     "text": [
      "--------------------------------------------------------------------------\n",
      "Train loss: 908.6491\n",
      "Eval loss: 636.5212\n",
      "--------------------------------------------------------------------------\n"
     ]
    },
    {
     "data": {
      "application/json": {
       "ascii": false,
       "bar_format": null,
       "colour": null,
       "elapsed": 0.004999399185180664,
       "initial": 0,
       "n": 0,
       "ncols": null,
       "nrows": null,
       "postfix": null,
       "prefix": "Training of epoch 3/10",
       "rate": null,
       "total": 24,
       "unit": "batch",
       "unit_divisor": 1000,
       "unit_scale": false
      },
      "application/vnd.jupyter.widget-view+json": {
       "model_id": "60f923a1f5ee47fab5cd6a2e5c10f254",
       "version_major": 2,
       "version_minor": 0
      },
      "text/plain": [
       "Training of epoch 3/10:   0%|          | 0/24 [00:00<?, ?batch/s]"
      ]
     },
     "metadata": {},
     "output_type": "display_data"
    },
    {
     "data": {
      "application/json": {
       "ascii": false,
       "bar_format": null,
       "colour": null,
       "elapsed": 0.004999876022338867,
       "initial": 0,
       "n": 0,
       "ncols": null,
       "nrows": null,
       "postfix": null,
       "prefix": "Eval of epoch 3/10",
       "rate": null,
       "total": 11,
       "unit": "batch",
       "unit_divisor": 1000,
       "unit_scale": false
      },
      "application/vnd.jupyter.widget-view+json": {
       "model_id": "13dfa7d552fa48b3b3abb284c8e434ff",
       "version_major": 2,
       "version_minor": 0
      },
      "text/plain": [
       "Eval of epoch 3/10:   0%|          | 0/11 [00:00<?, ?batch/s]"
      ]
     },
     "metadata": {},
     "output_type": "display_data"
    },
    {
     "name": "stderr",
     "output_type": "stream",
     "text": [
      "--------------------------------------------------------------------------\n",
      "Train loss: 704.1559\n",
      "Eval loss: 501.4892\n",
      "--------------------------------------------------------------------------\n"
     ]
    },
    {
     "data": {
      "application/json": {
       "ascii": false,
       "bar_format": null,
       "colour": null,
       "elapsed": 0.003999948501586914,
       "initial": 0,
       "n": 0,
       "ncols": null,
       "nrows": null,
       "postfix": null,
       "prefix": "Training of epoch 4/10",
       "rate": null,
       "total": 24,
       "unit": "batch",
       "unit_divisor": 1000,
       "unit_scale": false
      },
      "application/vnd.jupyter.widget-view+json": {
       "model_id": "296a786f9ed045e5b2c44c18686ed483",
       "version_major": 2,
       "version_minor": 0
      },
      "text/plain": [
       "Training of epoch 4/10:   0%|          | 0/24 [00:00<?, ?batch/s]"
      ]
     },
     "metadata": {},
     "output_type": "display_data"
    },
    {
     "data": {
      "application/json": {
       "ascii": false,
       "bar_format": null,
       "colour": null,
       "elapsed": 0.003999948501586914,
       "initial": 0,
       "n": 0,
       "ncols": null,
       "nrows": null,
       "postfix": null,
       "prefix": "Eval of epoch 4/10",
       "rate": null,
       "total": 11,
       "unit": "batch",
       "unit_divisor": 1000,
       "unit_scale": false
      },
      "application/vnd.jupyter.widget-view+json": {
       "model_id": "307e305af94a465d95728f6abda7916c",
       "version_major": 2,
       "version_minor": 0
      },
      "text/plain": [
       "Eval of epoch 4/10:   0%|          | 0/11 [00:00<?, ?batch/s]"
      ]
     },
     "metadata": {},
     "output_type": "display_data"
    },
    {
     "name": "stderr",
     "output_type": "stream",
     "text": [
      "--------------------------------------------------------------------------\n",
      "Train loss: 566.2197\n",
      "Eval loss: 438.2891\n",
      "--------------------------------------------------------------------------\n"
     ]
    },
    {
     "data": {
      "application/json": {
       "ascii": false,
       "bar_format": null,
       "colour": null,
       "elapsed": 0.004999637603759766,
       "initial": 0,
       "n": 0,
       "ncols": null,
       "nrows": null,
       "postfix": null,
       "prefix": "Training of epoch 5/10",
       "rate": null,
       "total": 24,
       "unit": "batch",
       "unit_divisor": 1000,
       "unit_scale": false
      },
      "application/vnd.jupyter.widget-view+json": {
       "model_id": "5fe06dd785b04fa2a26221fb5b072a9e",
       "version_major": 2,
       "version_minor": 0
      },
      "text/plain": [
       "Training of epoch 5/10:   0%|          | 0/24 [00:00<?, ?batch/s]"
      ]
     },
     "metadata": {},
     "output_type": "display_data"
    },
    {
     "data": {
      "application/json": {
       "ascii": false,
       "bar_format": null,
       "colour": null,
       "elapsed": 0.004059791564941406,
       "initial": 0,
       "n": 0,
       "ncols": null,
       "nrows": null,
       "postfix": null,
       "prefix": "Eval of epoch 5/10",
       "rate": null,
       "total": 11,
       "unit": "batch",
       "unit_divisor": 1000,
       "unit_scale": false
      },
      "application/vnd.jupyter.widget-view+json": {
       "model_id": "ebe8ee8b8a244a45940d0094ad0d4099",
       "version_major": 2,
       "version_minor": 0
      },
      "text/plain": [
       "Eval of epoch 5/10:   0%|          | 0/11 [00:00<?, ?batch/s]"
      ]
     },
     "metadata": {},
     "output_type": "display_data"
    },
    {
     "name": "stderr",
     "output_type": "stream",
     "text": [
      "--------------------------------------------------------------------------\n",
      "Train loss: 489.5258\n",
      "Eval loss: 408.6316\n",
      "--------------------------------------------------------------------------\n"
     ]
    },
    {
     "data": {
      "application/json": {
       "ascii": false,
       "bar_format": null,
       "colour": null,
       "elapsed": 0.003998517990112305,
       "initial": 0,
       "n": 0,
       "ncols": null,
       "nrows": null,
       "postfix": null,
       "prefix": "Training of epoch 6/10",
       "rate": null,
       "total": 24,
       "unit": "batch",
       "unit_divisor": 1000,
       "unit_scale": false
      },
      "application/vnd.jupyter.widget-view+json": {
       "model_id": "2727f122bca242db91e7b7c68df52f8c",
       "version_major": 2,
       "version_minor": 0
      },
      "text/plain": [
       "Training of epoch 6/10:   0%|          | 0/24 [00:00<?, ?batch/s]"
      ]
     },
     "metadata": {},
     "output_type": "display_data"
    },
    {
     "data": {
      "application/json": {
       "ascii": false,
       "bar_format": null,
       "colour": null,
       "elapsed": 0.003999948501586914,
       "initial": 0,
       "n": 0,
       "ncols": null,
       "nrows": null,
       "postfix": null,
       "prefix": "Eval of epoch 6/10",
       "rate": null,
       "total": 11,
       "unit": "batch",
       "unit_divisor": 1000,
       "unit_scale": false
      },
      "application/vnd.jupyter.widget-view+json": {
       "model_id": "e9ebe9b362604279b6591b5ca42953af",
       "version_major": 2,
       "version_minor": 0
      },
      "text/plain": [
       "Eval of epoch 6/10:   0%|          | 0/11 [00:00<?, ?batch/s]"
      ]
     },
     "metadata": {},
     "output_type": "display_data"
    },
    {
     "name": "stderr",
     "output_type": "stream",
     "text": [
      "--------------------------------------------------------------------------\n",
      "Train loss: 433.5704\n",
      "Eval loss: 398.0775\n",
      "--------------------------------------------------------------------------\n"
     ]
    },
    {
     "data": {
      "application/json": {
       "ascii": false,
       "bar_format": null,
       "colour": null,
       "elapsed": 0.003997087478637695,
       "initial": 0,
       "n": 0,
       "ncols": null,
       "nrows": null,
       "postfix": null,
       "prefix": "Training of epoch 7/10",
       "rate": null,
       "total": 24,
       "unit": "batch",
       "unit_divisor": 1000,
       "unit_scale": false
      },
      "application/vnd.jupyter.widget-view+json": {
       "model_id": "5ccd576ab1d244d5a027afa3303e731a",
       "version_major": 2,
       "version_minor": 0
      },
      "text/plain": [
       "Training of epoch 7/10:   0%|          | 0/24 [00:00<?, ?batch/s]"
      ]
     },
     "metadata": {},
     "output_type": "display_data"
    },
    {
     "data": {
      "application/json": {
       "ascii": false,
       "bar_format": null,
       "colour": null,
       "elapsed": 0.004996299743652344,
       "initial": 0,
       "n": 0,
       "ncols": null,
       "nrows": null,
       "postfix": null,
       "prefix": "Eval of epoch 7/10",
       "rate": null,
       "total": 11,
       "unit": "batch",
       "unit_divisor": 1000,
       "unit_scale": false
      },
      "application/vnd.jupyter.widget-view+json": {
       "model_id": "b937690a70344277a6ebe6493e0f9ceb",
       "version_major": 2,
       "version_minor": 0
      },
      "text/plain": [
       "Eval of epoch 7/10:   0%|          | 0/11 [00:00<?, ?batch/s]"
      ]
     },
     "metadata": {},
     "output_type": "display_data"
    },
    {
     "name": "stderr",
     "output_type": "stream",
     "text": [
      "--------------------------------------------------------------------------\n",
      "Train loss: 367.0975\n",
      "Eval loss: 380.4248\n",
      "--------------------------------------------------------------------------\n"
     ]
    },
    {
     "data": {
      "application/json": {
       "ascii": false,
       "bar_format": null,
       "colour": null,
       "elapsed": 0.00500035285949707,
       "initial": 0,
       "n": 0,
       "ncols": null,
       "nrows": null,
       "postfix": null,
       "prefix": "Training of epoch 8/10",
       "rate": null,
       "total": 24,
       "unit": "batch",
       "unit_divisor": 1000,
       "unit_scale": false
      },
      "application/vnd.jupyter.widget-view+json": {
       "model_id": "4520d18ab3bf4c9590b4754e8346a362",
       "version_major": 2,
       "version_minor": 0
      },
      "text/plain": [
       "Training of epoch 8/10:   0%|          | 0/24 [00:00<?, ?batch/s]"
      ]
     },
     "metadata": {},
     "output_type": "display_data"
    },
    {
     "data": {
      "application/json": {
       "ascii": false,
       "bar_format": null,
       "colour": null,
       "elapsed": 0.003996372222900391,
       "initial": 0,
       "n": 0,
       "ncols": null,
       "nrows": null,
       "postfix": null,
       "prefix": "Eval of epoch 8/10",
       "rate": null,
       "total": 11,
       "unit": "batch",
       "unit_divisor": 1000,
       "unit_scale": false
      },
      "application/vnd.jupyter.widget-view+json": {
       "model_id": "d56f1060199e470d9e0d84eafa3f575d",
       "version_major": 2,
       "version_minor": 0
      },
      "text/plain": [
       "Eval of epoch 8/10:   0%|          | 0/11 [00:00<?, ?batch/s]"
      ]
     },
     "metadata": {},
     "output_type": "display_data"
    },
    {
     "name": "stderr",
     "output_type": "stream",
     "text": [
      "--------------------------------------------------------------------------\n",
      "Train loss: 351.8443\n",
      "Eval loss: 317.6837\n",
      "--------------------------------------------------------------------------\n"
     ]
    },
    {
     "data": {
      "application/json": {
       "ascii": false,
       "bar_format": null,
       "colour": null,
       "elapsed": 0.005000114440917969,
       "initial": 0,
       "n": 0,
       "ncols": null,
       "nrows": null,
       "postfix": null,
       "prefix": "Training of epoch 9/10",
       "rate": null,
       "total": 24,
       "unit": "batch",
       "unit_divisor": 1000,
       "unit_scale": false
      },
      "application/vnd.jupyter.widget-view+json": {
       "model_id": "3ed862dd705d4a09aee79819b79f6968",
       "version_major": 2,
       "version_minor": 0
      },
      "text/plain": [
       "Training of epoch 9/10:   0%|          | 0/24 [00:00<?, ?batch/s]"
      ]
     },
     "metadata": {},
     "output_type": "display_data"
    },
    {
     "data": {
      "application/json": {
       "ascii": false,
       "bar_format": null,
       "colour": null,
       "elapsed": 0.00393223762512207,
       "initial": 0,
       "n": 0,
       "ncols": null,
       "nrows": null,
       "postfix": null,
       "prefix": "Eval of epoch 9/10",
       "rate": null,
       "total": 11,
       "unit": "batch",
       "unit_divisor": 1000,
       "unit_scale": false
      },
      "application/vnd.jupyter.widget-view+json": {
       "model_id": "264bf551b202478da088a52c43984fc2",
       "version_major": 2,
       "version_minor": 0
      },
      "text/plain": [
       "Eval of epoch 9/10:   0%|          | 0/11 [00:00<?, ?batch/s]"
      ]
     },
     "metadata": {},
     "output_type": "display_data"
    },
    {
     "name": "stderr",
     "output_type": "stream",
     "text": [
      "--------------------------------------------------------------------------\n",
      "Train loss: 321.5207\n",
      "Eval loss: 333.8359\n",
      "--------------------------------------------------------------------------\n"
     ]
    },
    {
     "data": {
      "application/json": {
       "ascii": false,
       "bar_format": null,
       "colour": null,
       "elapsed": 0.004000425338745117,
       "initial": 0,
       "n": 0,
       "ncols": null,
       "nrows": null,
       "postfix": null,
       "prefix": "Training of epoch 10/10",
       "rate": null,
       "total": 24,
       "unit": "batch",
       "unit_divisor": 1000,
       "unit_scale": false
      },
      "application/vnd.jupyter.widget-view+json": {
       "model_id": "894e7ca5b680497b828474b7f4b64c89",
       "version_major": 2,
       "version_minor": 0
      },
      "text/plain": [
       "Training of epoch 10/10:   0%|          | 0/24 [00:00<?, ?batch/s]"
      ]
     },
     "metadata": {},
     "output_type": "display_data"
    },
    {
     "data": {
      "application/json": {
       "ascii": false,
       "bar_format": null,
       "colour": null,
       "elapsed": 0.0049419403076171875,
       "initial": 0,
       "n": 0,
       "ncols": null,
       "nrows": null,
       "postfix": null,
       "prefix": "Eval of epoch 10/10",
       "rate": null,
       "total": 11,
       "unit": "batch",
       "unit_divisor": 1000,
       "unit_scale": false
      },
      "application/vnd.jupyter.widget-view+json": {
       "model_id": "6d039f4d67a64b6a822f5eea8c41fd02",
       "version_major": 2,
       "version_minor": 0
      },
      "text/plain": [
       "Eval of epoch 10/10:   0%|          | 0/11 [00:00<?, ?batch/s]"
      ]
     },
     "metadata": {},
     "output_type": "display_data"
    },
    {
     "name": "stderr",
     "output_type": "stream",
     "text": [
      "--------------------------------------------------------------------------\n",
      "Train loss: 293.5084\n",
      "Eval loss: 357.0525\n",
      "--------------------------------------------------------------------------\n",
      "Training ended!\n",
      "Saved final model in c:\\users\\thoma\\cell_cycle_classification\\cell_cycle_classification\\utils\\..\\..\\models/fucci_vae/20250110-115716-local\\VAMP_training_2025-01-10_11-58-21\\final_model\n"
     ]
    },
    {
     "data": {
      "text/html": [
       "Waiting for W&B process to finish... <strong style=\"color:green\">(success).</strong>"
      ],
      "text/plain": [
       "<IPython.core.display.HTML object>"
      ]
     },
     "metadata": {},
     "output_type": "display_data"
    },
    {
     "data": {
      "application/vnd.jupyter.widget-view+json": {
       "model_id": "ba0fd6647ddc4d10ba213f6f8adc506d",
       "version_major": 2,
       "version_minor": 0
      },
      "text/plain": [
       "VBox(children=(Label(value='0.001 MB of 0.001 MB uploaded (0.000 MB deduped)\\r'), FloatProgress(value=1.0, max…"
      ]
     },
     "metadata": {},
     "output_type": "display_data"
    },
    {
     "data": {
      "text/html": [
       "<style>\n",
       "    table.wandb td:nth-child(1) { padding: 0 10px; text-align: left ; width: auto;} td:nth-child(2) {text-align: left ; width: 100%}\n",
       "    .wandb-row { display: flex; flex-direction: row; flex-wrap: wrap; justify-content: flex-start; width: 100% }\n",
       "    .wandb-col { display: flex; flex-direction: column; flex-basis: 100%; flex: 1; padding: 10px; }\n",
       "    </style>\n",
       "<div class=\"wandb-row\"><div class=\"wandb-col\"><h3>Run history:</h3><br/><table class=\"wandb\"><tr><td>additional/eval_epoch_adjacent_loss</td><td>█▅▄▄▂▁▂▂▁▂</td></tr><tr><td>additional/eval_epoch_inactive_dim_loss</td><td>▃▃▃▃▃▁▆█▁█</td></tr><tr><td>additional/eval_epoch_prediction_loss</td><td>█▆▄▃▃▃▃▁▂▂</td></tr><tr><td>additional/eval_epoch_recon_loss</td><td>█▃▂▂▁▂▁▁▁▁</td></tr><tr><td>additional/eval_epoch_reg_loss</td><td>▁▂▂▂▄▄▅█▇█</td></tr><tr><td>additional/train_epoch_adjacent_loss</td><td>█▆▄▃▂▂▂▁▁▁</td></tr><tr><td>additional/train_epoch_inactive_dim_loss</td><td>▁▁▁▁▁▁▁▁▁▁</td></tr><tr><td>additional/train_epoch_prediction_loss</td><td>█▅▄▃▃▂▂▁▁▁</td></tr><tr><td>additional/train_epoch_recon_loss</td><td>█▂▁▁▁▁▁▁▁▁</td></tr><tr><td>additional/train_epoch_reg_loss</td><td>▁▁▂▃▄▅▆▇▇█</td></tr><tr><td>eval/epoch_loss</td><td>█▄▃▂▂▂▂▁▁▁</td></tr><tr><td>train/epoch_loss</td><td>█▃▂▂▂▁▁▁▁▁</td></tr><tr><td>train/global_step</td><td>▁▂▃▃▄▅▆▆▇█</td></tr></table><br/></div><div class=\"wandb-col\"><h3>Run summary:</h3><br/><table class=\"wandb\"><tr><td>additional/eval_epoch_adjacent_loss</td><td>33.544</td></tr><tr><td>additional/eval_epoch_inactive_dim_loss</td><td>0.45455</td></tr><tr><td>additional/eval_epoch_prediction_loss</td><td>165.77157</td></tr><tr><td>additional/eval_epoch_recon_loss</td><td>155.60989</td></tr><tr><td>additional/eval_epoch_reg_loss</td><td>2.12705</td></tr><tr><td>additional/train_epoch_adjacent_loss</td><td>12.99029</td></tr><tr><td>additional/train_epoch_inactive_dim_loss</td><td>0.0</td></tr><tr><td>additional/train_epoch_prediction_loss</td><td>89.59361</td></tr><tr><td>additional/train_epoch_recon_loss</td><td>188.66032</td></tr><tr><td>additional/train_epoch_reg_loss</td><td>2.26417</td></tr><tr><td>eval/epoch_loss</td><td>357.05251</td></tr><tr><td>train/epoch_loss</td><td>293.50839</td></tr><tr><td>train/global_step</td><td>10</td></tr></table><br/></div></div>"
      ],
      "text/plain": [
       "<IPython.core.display.HTML object>"
      ]
     },
     "metadata": {},
     "output_type": "display_data"
    },
    {
     "data": {
      "text/html": [
       " View run <strong style=\"color:#cdcd00\">20250110-115716-local</strong> at: <a href='https://wandb.ai/cbio-bis/vae-fucci-local/runs/9is3aj7c' target=\"_blank\">https://wandb.ai/cbio-bis/vae-fucci-local/runs/9is3aj7c</a><br/>Synced 6 W&B file(s), 0 media file(s), 0 artifact file(s) and 0 other file(s)"
      ],
      "text/plain": [
       "<IPython.core.display.HTML object>"
      ]
     },
     "metadata": {},
     "output_type": "display_data"
    },
    {
     "data": {
      "text/html": [
       "Find logs at: <code>.\\wandb\\run-20250110_115757-9is3aj7c\\logs</code>"
      ],
      "text/plain": [
       "<IPython.core.display.HTML object>"
      ]
     },
     "metadata": {},
     "output_type": "display_data"
    },
    {
     "name": "stdout",
     "output_type": "stream",
     "text": [
      "Model evaluation in progress: 100.0% | Batch #12                                                   \n",
      "Average SSIM: 0.46\n",
      "Model evaluation in progress: 100.0% | Batch #12                                                   \n",
      "Average EuclideanMatchingMetric: 0.61\n"
     ]
    }
   ],
   "source": [
    "trainer.ssl_train(args, params);"
   ]
  },
  {
   "cell_type": "code",
   "execution_count": 5,
   "metadata": {},
   "outputs": [
    {
     "name": "stdout",
     "output_type": "stream",
     "text": [
      "Model time id: 20250110-122627-local\n",
      "epochs 1 | batch 64 | lr 0.0001 | weight decay 0.05 | dropout 0.0 | c [0] | z [0, 1, 2, 3, 4] | data set size 280 | latent dim 256 | beta 0.01 | gamma 1 | delta 10000.0 | depth 5 | kld loss standard | encoder name resnet18 | latent dim 256 | beta 0.01 | gamma 1 | delta 10000.0 | C 50 | depth 5 | kld loss standard | encoder name resnet18\n",
      "\n",
      "\n",
      "### Classification ###\n",
      "\n",
      "File names correctly loaded.\n",
      "Splitting file names ...\n",
      "### Data source ###\n",
      "train data is loaded from c:\\Users\\thoma\\cell_cycle_classification\\notebooks\\data_set_split\\train.txt - 100% elements\n",
      "val data is loaded from c:\\Users\\thoma\\cell_cycle_classification\\notebooks\\data_set_split\\val.txt - 100% elements\n",
      "test data is loaded from c:\\Users\\thoma\\cell_cycle_classification\\notebooks\\data_set_split\\test.txt - 100% elements\n",
      "###################\n",
      "train has 171 images for class 0, 347 images for class 1, 234 images for class 2, total 752 images (oversampling applied)\n",
      "val has 62 images for class 0, 177 images for class 1, 84 images for class 2, total 323 images\n",
      "test has 81 images for class 0, 192 images for class 1, 115 images for class 2, total 388 images\n",
      "###################\n",
      "Number of parameters to train: 66563\n",
      "Current commit hash: 0594c3d0d41c72530f718bb218d8558109c44016\n",
      "Training in progress: 100.0% | Local step 12 | Epoch 1                                             \n",
      "Best model saved at epoch 1.\n",
      "\n",
      "Training successfully finished in 0:00:38.448228.\n"
     ]
    }
   ],
   "source": [
    "params.reset_training_folders()  # necessary since model folder is not defined from args but in params directly\n",
    "trainer.classification_train(args, params);"
   ]
  }
 ],
 "metadata": {
  "kernelspec": {
   "display_name": "pytorch-env2",
   "language": "python",
   "name": "python3"
  },
  "language_info": {
   "codemirror_mode": {
    "name": "ipython",
    "version": 3
   },
   "file_extension": ".py",
   "mimetype": "text/x-python",
   "name": "python",
   "nbconvert_exporter": "python",
   "pygments_lexer": "ipython3",
   "version": "3.9.13"
  }
 },
 "nbformat": 4,
 "nbformat_minor": 2
}
