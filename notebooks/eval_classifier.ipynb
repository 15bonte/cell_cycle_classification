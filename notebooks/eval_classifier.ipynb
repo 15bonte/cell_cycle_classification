{
 "cells": [
  {
   "cell_type": "markdown",
   "metadata": {},
   "source": [
    "# Evaluate classification"
   ]
  },
  {
   "cell_type": "code",
   "execution_count": 1,
   "metadata": {},
   "outputs": [],
   "source": [
    "import os\n",
    "import torch\n",
    "\n",
    "from cnn_framework.utils.data_managers.default_data_manager import DefaultDataManager\n",
    "from cnn_framework.utils.data_loader_generators.data_loader_generator import (\n",
    "    DataLoaderGenerator,\n",
    ")\n",
    "from cnn_framework.utils.model_managers.cnn_model_manager import CnnModelManager\n",
    "from cnn_framework.utils.metrics.classification_accuracy import ClassificationAccuracy\n",
    "\n",
    "from cell_cycle_classification.utils.data_set import FucciClassificationDataSet\n",
    "from cell_cycle_classification.backbone.fucci_classifier import FucciClassifier\n",
    "\n",
    "from cell_cycle_classification.utils.model_params import FucciVAEModelParams"
   ]
  },
  {
   "cell_type": "markdown",
   "metadata": {},
   "source": [
    "### Define parameters"
   ]
  },
  {
   "cell_type": "code",
   "execution_count": 2,
   "metadata": {},
   "outputs": [
    {
     "name": "stdout",
     "output_type": "stream",
     "text": [
      "Model time id: 20241113-175912-local\n",
      "epochs 50 | batch 32 | lr 0.0001 | weight decay 0.05 | dropout 0.0 | c [0] | z [0, 1, 2, 3, 4] | data set size None | latent dim 256 | beta 0.01 | gamma 100.0 | delta 10000.0 | depth 5 | kld loss standard | encoder name resnet18 | latent dim 256 | beta 0.01 | gamma 100.0 | delta 10000.0 | C 50 | depth 5 | kld loss standard | encoder name resnet18\n"
     ]
    }
   ],
   "source": [
    "params = FucciVAEModelParams()\n",
    "params.update()\n",
    "\n",
    "# Define custom paths\n",
    "params.data_dir = \"C:/Users/thoma/data/Data Oriane April/nuclei_h5_128_test/chunked_labeled_named_test.h5\"\n",
    "params.models_folder = \"C:/Users/thoma/models/cycle_classification/20241101-055937-4998324\"\n",
    "params.model_load_path = os.path.join(params.models_folder, \"early_stopping_cycle_classification.pt\")\n",
    "\n",
    "# As we perform inference, all data is used as test\n",
    "params.test_ratio = 1.0"
   ]
  },
  {
   "cell_type": "markdown",
   "metadata": {},
   "source": [
    "### Load data"
   ]
  },
  {
   "cell_type": "code",
   "execution_count": 3,
   "metadata": {},
   "outputs": [
    {
     "name": "stdout",
     "output_type": "stream",
     "text": [
      "File names correctly loaded.\n",
      "Splitting file names ...\n",
      "### Data source ###\n",
      "No data is loaded for train\n",
      "No data is loaded for val\n",
      "test data is loaded from C:/Users/thoma/data/Data Oriane April/nuclei_h5_128_test/chunked_labeled_named_test.h5 - 100% elements\n",
      "###################\n",
      "train has 0 images.\n",
      "val has 0 images.\n",
      "test has 6043 images.\n",
      "###################\n"
     ]
    }
   ],
   "source": [
    "loader_generator = DataLoaderGenerator(\n",
    "    params, FucciClassificationDataSet, DefaultDataManager\n",
    ")\n",
    "_, _, test_dl = loader_generator.generate_data_loader()"
   ]
  },
  {
   "cell_type": "markdown",
   "metadata": {},
   "source": [
    "### Load pretrained model"
   ]
  },
  {
   "cell_type": "code",
   "execution_count": 4,
   "metadata": {},
   "outputs": [
    {
     "data": {
      "text/plain": [
       "<All keys matched successfully>"
      ]
     },
     "execution_count": 4,
     "metadata": {},
     "output_type": "execute_result"
    }
   ],
   "source": [
    "model = FucciClassifier(params)\n",
    "model.load_state_dict(torch.load(params.model_load_path))"
   ]
  },
  {
   "cell_type": "markdown",
   "metadata": {},
   "source": [
    "### Evaluate classification"
   ]
  },
  {
   "cell_type": "code",
   "execution_count": 5,
   "metadata": {},
   "outputs": [
    {
     "name": "stdout",
     "output_type": "stream",
     "text": [
      "Current commit hash: 22f1e5339229eaf1caec3ffd38a6322953bdce78\n",
      "Model evaluation in progress: 100.0% | Batch #188                                                  \n",
      "Average ClassificationAccuracy: 0.816\n"
     ]
    },
    {
     "data": {
      "image/png": "[encoded data removed]",
      "text/plain": [
       "<Figure size 500x500 with 1 Axes>"
      ]
     },
     "metadata": {},
     "output_type": "display_data"
    }
   ],
   "source": [
    "CnnModelManager(model, params, ClassificationAccuracy).predict(test_dl);"
   ]
  }
 ],
 "metadata": {
  "kernelspec": {
   "display_name": "pytorch-env2",
   "language": "python",
   "name": "python3"
  },
  "language_info": {
   "codemirror_mode": {
    "name": "ipython",
    "version": 3
   },
   "file_extension": ".py",
   "mimetype": "text/x-python",
   "name": "python",
   "nbconvert_exporter": "python",
   "pygments_lexer": "ipython3",
   "version": "3.9.13"
  }
 },
 "nbformat": 4,
 "nbformat_minor": 2
}
