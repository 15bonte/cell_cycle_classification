{
 "cells": [
  {
   "cell_type": "markdown",
   "metadata": {},
   "source": [
    "# Predict cell cycle phase"
   ]
  },
  {
   "cell_type": "code",
   "execution_count": 1,
   "metadata": {},
   "outputs": [
    {
     "name": "stderr",
     "output_type": "stream",
     "text": [
      "c:\\Users\\thoma\\anaconda3\\envs\\pytorch-env2\\lib\\site-packages\\albumentations\\__init__.py:24: UserWarning: A new version of Albumentations is available: '2.0.8' (you have '2.0.0'). Upgrade using: pip install -U albumentations. To disable automatic update checks, set the environment variable NO_ALBUMENTATIONS_UPDATE to 1.\n",
      "  check_for_updates()\n"
     ]
    }
   ],
   "source": [
    "import os\n",
    "import torch\n",
    "import numpy as np\n",
    "\n",
    "from cnn_framework.utils.data_managers.default_data_manager import DefaultDataManager\n",
    "from cnn_framework.utils.data_loader_generators.data_loader_generator import (\n",
    "    DataLoaderGenerator,\n",
    ")\n",
    "from cnn_framework.utils.model_managers.cnn_model_manager import CnnModelManager\n",
    "from cnn_framework.utils.metrics.abstract_metric import AbstractMetric\n",
    "\n",
    "from cell_cycle_classification.utils.data_set import FucciClassificationDataSet\n",
    "from cell_cycle_classification.backbone.fucci_classifier import FucciClassifier\n",
    "\n",
    "from cell_cycle_classification.utils.model_params import FucciVAEModelParams"
   ]
  },
  {
   "cell_type": "markdown",
   "metadata": {},
   "source": [
    "### Define parameters"
   ]
  },
  {
   "cell_type": "code",
   "execution_count": 2,
   "metadata": {},
   "outputs": [
    {
     "name": "stdout",
     "output_type": "stream",
     "text": [
      "Model time id: 20250917-155627-local\n",
      "epochs 10 | batch 32 | lr 0.0001 | weight decay 0.05 | dropout 0.0 | c [0] | z [0, 1, 2, 3, 4] | data set size None | latent dim 256 | beta 0.01 | gamma 100.0 | delta 10000.0 | depth 5 | kld loss standard | encoder name resnet18 | latent dim 256 | beta 0.01 | gamma 100.0 | delta 10000.0 | C 50 | depth 5 | kld loss standard | encoder name resnet18\n"
     ]
    }
   ],
   "source": [
    "params = FucciVAEModelParams()\n",
    "params.update()\n",
    "params.load_classification_model()  # load trained model from HuggingFace"
   ]
  },
  {
   "cell_type": "code",
   "execution_count": 3,
   "metadata": {},
   "outputs": [],
   "source": [
    "# Set path to data directory\n",
    "params.data_dir = os.path.join(os.path.abspath(''), \"data\")\n",
    "params.test_ratio = 1.0  # use all data for testing\n",
    "params.data_set_size = 280  # maximum nucleus diameter "
   ]
  },
  {
   "cell_type": "markdown",
   "metadata": {},
   "source": [
    "### Load data"
   ]
  },
  {
   "cell_type": "code",
   "execution_count": 4,
   "metadata": {},
   "outputs": [
    {
     "name": "stdout",
     "output_type": "stream",
     "text": [
      "File names correctly loaded.\n",
      "Splitting file names ...\n",
      "### Data source ###\n",
      "No data is loaded for train\n",
      "No data is loaded for val\n",
      "test data is loaded from c:\\Users\\thoma\\cell_cycle_classification\\notebooks\\data - 100% elements\n",
      "###################\n",
      "train has 0 images.\n",
      "val has 0 images.\n",
      "test has 1 images.\n",
      "###################\n"
     ]
    }
   ],
   "source": [
    "params.check_ready()\n",
    "loader_generator = DataLoaderGenerator(\n",
    "    params, FucciClassificationDataSet, DefaultDataManager\n",
    ")\n",
    "_, _, test_dl = loader_generator.generate_data_loader()"
   ]
  },
  {
   "cell_type": "markdown",
   "metadata": {},
   "source": [
    "### Load pretrained model"
   ]
  },
  {
   "cell_type": "code",
   "execution_count": 5,
   "metadata": {},
   "outputs": [
    {
     "data": {
      "text/plain": [
       "<All keys matched successfully>"
      ]
     },
     "execution_count": 5,
     "metadata": {},
     "output_type": "execute_result"
    }
   ],
   "source": [
    "model = FucciClassifier(params)\n",
    "model.load_state_dict(torch.load(params.model_load_path))"
   ]
  },
  {
   "cell_type": "markdown",
   "metadata": {},
   "source": [
    "### Predict cell cycle phase"
   ]
  },
  {
   "cell_type": "code",
   "execution_count": 6,
   "metadata": {},
   "outputs": [
    {
     "name": "stdout",
     "output_type": "stream",
     "text": [
      "Current commit hash: 7fcf4a97da8a68c06036377aef8b827806ddec9a\n"
     ]
    },
    {
     "name": "stderr",
     "output_type": "stream",
     "text": [
      "c:\\users\\thoma\\cell_cycle_classification\\cell_cycle_classification\\utils\\data_set.py:64: UserWarning: Argument 'value' is not valid and will be ignored.\n",
      "  A.PadIfNeeded(\n",
      "c:\\users\\thoma\\cell_cycle_classification\\cell_cycle_classification\\utils\\data_set.py:76: UserWarning: Argument 'always_apply' is not valid and will be ignored.\n",
      "  A.Resize(\n"
     ]
    },
    {
     "name": "stdout",
     "output_type": "stream",
     "text": [
      "Model evaluation in progress: 100.0% | Batch #0                                                    "
     ]
    }
   ],
   "source": [
    "predictions = CnnModelManager(model, params, AbstractMetric).predict(test_dl);"
   ]
  },
  {
   "cell_type": "code",
   "execution_count": 7,
   "metadata": {},
   "outputs": [
    {
     "name": "stdout",
     "output_type": "stream",
     "text": [
      "Image 0: Predicted cycle phase: G1\n"
     ]
    }
   ],
   "source": [
    "cycle_phases = ['G1', 'S', 'G2/M']\n",
    "for i, pred in enumerate(predictions):\n",
    "    print(f\"Image {i}: Predicted cycle phase: {cycle_phases[np.argmax(pred)]}\")"
   ]
  }
 ],
 "metadata": {
  "kernelspec": {
   "display_name": "pytorch-env2",
   "language": "python",
   "name": "python3"
  },
  "language_info": {
   "codemirror_mode": {
    "name": "ipython",
    "version": 3
   },
   "file_extension": ".py",
   "mimetype": "text/x-python",
   "name": "python",
   "nbconvert_exporter": "python",
   "pygments_lexer": "ipython3",
   "version": "3.9.13"
  }
 },
 "nbformat": 4,
 "nbformat_minor": 2
}
