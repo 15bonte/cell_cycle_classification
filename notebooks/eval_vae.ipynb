{
 "cells": [
  {
   "cell_type": "markdown",
   "metadata": {},
   "source": [
    "# Evaluate VAE reconstruction"
   ]
  },
  {
   "cell_type": "code",
   "execution_count": 1,
   "metadata": {},
   "outputs": [],
   "source": [
    "from cnn_framework.utils.data_loader_generators.data_loader_generator import (\n",
    "    DataLoaderGenerator,\n",
    ")\n",
    "from cnn_framework.utils.metrics.ssim import SSIM\n",
    "from cnn_framework.utils.enum import PredictMode\n",
    "from cnn_framework.utils.data_managers.several_folders_data_manager import (\n",
    "    SeveralFoldersDataManager,\n",
    ")\n",
    "\n",
    "from cell_cycle_classification.backbone.model import FucciVAE\n",
    "from cell_cycle_classification.utils.data_set import FucciVAEDataSet\n",
    "from cell_cycle_classification.utils.tools import get_final_model_path\n",
    "from cell_cycle_classification.utils.vae_model_manager import VAEModelManager\n",
    "from cell_cycle_classification.utils.euclidean_matching_metric import (\n",
    "    EuclideanMatchingMetric,\n",
    ")\n",
    "\n",
    "from cell_cycle_classification.utils.model_params import FucciVAEModelParams"
   ]
  },
  {
   "cell_type": "markdown",
   "metadata": {},
   "source": [
    "### Define parameters"
   ]
  },
  {
   "cell_type": "code",
   "execution_count": 6,
   "metadata": {},
   "outputs": [
    {
     "name": "stdout",
     "output_type": "stream",
     "text": [
      "Model time id: 20241113-175437-local\n",
      "epochs 50 | batch 32 | lr 0.0001 | weight decay 0.05 | dropout 0.0 | c [0] | z [0, 1, 2, 3, 4] | data set size None | latent dim 256 | beta 0.01 | gamma 100.0 | delta 10000.0 | depth 5 | kld loss standard | encoder name resnet18 | latent dim 256 | beta 0.01 | gamma 100.0 | delta 10000.0 | C 50 | depth 5 | kld loss standard | encoder name resnet18\n"
     ]
    }
   ],
   "source": [
    "params = FucciVAEModelParams()\n",
    "params.update()\n",
    "\n",
    "# Define custom paths\n",
    "params.data_dir = \"C:/Users/thoma/data/Data Oriane April/nuclei_h5_128_test/chunked_labeled_named_test.h5\"\n",
    "params.model_load_path = params.models_folder = \"C:/Users/thoma/models/cycle_classification/20241031-112222-4998324\"\n",
    "\n",
    "# As we perform inference, all data is used as test\n",
    "params.test_ratio = 1.0"
   ]
  },
  {
   "cell_type": "markdown",
   "metadata": {},
   "source": [
    "### Load data"
   ]
  },
  {
   "cell_type": "code",
   "execution_count": 4,
   "metadata": {},
   "outputs": [
    {
     "name": "stdout",
     "output_type": "stream",
     "text": [
      "File names correctly loaded.\n",
      "Splitting file names ...\n",
      "### Data source ###\n",
      "No data is loaded for train\n",
      "No data is loaded for val\n",
      "test data is loaded from C:/Users/thoma/data/Data Oriane April/nuclei_h5_128_test/chunked_labeled_named_test.h5 - 100% elements\n",
      "###################\n",
      "train has 0 images.\n",
      "val has 0 images.\n",
      "test has 6043 images.\n",
      "###################\n"
     ]
    }
   ],
   "source": [
    "loader_generator = DataLoaderGenerator(\n",
    "    params, FucciVAEDataSet, SeveralFoldersDataManager\n",
    ")\n",
    "_, _, test_dl = loader_generator.generate_data_loader(shuffle_test=True)"
   ]
  },
  {
   "cell_type": "markdown",
   "metadata": {},
   "source": [
    "### Load pretrained model"
   ]
  },
  {
   "cell_type": "code",
   "execution_count": 7,
   "metadata": {},
   "outputs": [],
   "source": [
    "final_trained_model = get_final_model_path(params.model_load_path)\n",
    "model = FucciVAE.load_from_folder(final_trained_model)"
   ]
  },
  {
   "cell_type": "markdown",
   "metadata": {},
   "source": [
    "### Evaluate reconstruction"
   ]
  },
  {
   "cell_type": "code",
   "execution_count": 8,
   "metadata": {},
   "outputs": [
    {
     "name": "stdout",
     "output_type": "stream",
     "text": [
      "Current commit hash: 22f1e5339229eaf1caec3ffd38a6322953bdce78\n",
      "Model evaluation in progress: 100.0% | Batch #188                                                  \n",
      "Average SSIM: 0.611\n"
     ]
    }
   ],
   "source": [
    "VAEModelManager(model, params, SSIM).predict(test_dl);"
   ]
  },
  {
   "cell_type": "markdown",
   "metadata": {},
   "source": [
    "### Evaluate time consistency"
   ]
  },
  {
   "cell_type": "code",
   "execution_count": 16,
   "metadata": {},
   "outputs": [
    {
     "name": "stdout",
     "output_type": "stream",
     "text": [
      "Current commit hash: 22f1e5339229eaf1caec3ffd38a6322953bdce78\n",
      "Model evaluation in progress: 100.0% | Batch #188                                                  \n",
      "Average EuclideanMatchingMetric: 0.975\n"
     ]
    }
   ],
   "source": [
    "VAEModelManager(model, params, EuclideanMatchingMetric).predict(\n",
    "    test_dl, predict_mode=PredictMode.GetEmbeddingMSE\n",
    ");"
   ]
  }
 ],
 "metadata": {
  "kernelspec": {
   "display_name": "pytorch-env2",
   "language": "python",
   "name": "python3"
  },
  "language_info": {
   "codemirror_mode": {
    "name": "ipython",
    "version": 3
   },
   "file_extension": ".py",
   "mimetype": "text/x-python",
   "name": "python",
   "nbconvert_exporter": "python",
   "pygments_lexer": "ipython3",
   "version": "3.9.13"
  }
 },
 "nbformat": 4,
 "nbformat_minor": 2
}
